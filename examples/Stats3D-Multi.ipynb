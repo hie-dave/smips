{
 "cells": [
  {
   "cell_type": "code",
   "execution_count": 26,
   "id": "e165f281-19f2-47f3-b0e6-f9e3f836bf6b",
   "metadata": {},
   "outputs": [
    {
     "name": "stdout",
     "output_type": "stream",
     "text": [
      "Requirement already satisfied: owslib in /mnt/home/som05d/.conda/envs/jupyter_som05d/lib/python3.7/site-packages (0.27.2)\n",
      "Requirement already satisfied: shapely in /mnt/home/som05d/.conda/envs/jupyter_som05d/lib/python3.7/site-packages (2.0.0)\n",
      "Requirement already satisfied: matplotlib in /mnt/home/som05d/.conda/envs/jupyter_som05d/lib/python3.7/site-packages (3.5.3)\n",
      "Requirement already satisfied: pytz in /mnt/home/som05d/.conda/envs/jupyter_som05d/lib/python3.7/site-packages (from owslib) (2021.3)\n",
      "Requirement already satisfied: python-dateutil>=1.5 in /mnt/home/som05d/.conda/envs/jupyter_som05d/lib/python3.7/site-packages (from owslib) (2.8.2)\n",
      "Requirement already satisfied: pyyaml in /mnt/home/som05d/.conda/envs/jupyter_som05d/lib/python3.7/site-packages (from owslib) (6.0)\n",
      "Requirement already satisfied: requests>=1.0 in /mnt/home/som05d/.conda/envs/jupyter_som05d/lib/python3.7/site-packages (from owslib) (2.26.0)\n",
      "Requirement already satisfied: numpy>=1.14 in /mnt/home/som05d/.conda/envs/jupyter_som05d/lib/python3.7/site-packages (from shapely) (1.21.5)\n",
      "Requirement already satisfied: kiwisolver>=1.0.1 in /mnt/home/som05d/.conda/envs/jupyter_som05d/lib/python3.7/site-packages (from matplotlib) (1.4.2)\n",
      "Requirement already satisfied: cycler>=0.10 in /mnt/home/som05d/.conda/envs/jupyter_som05d/lib/python3.7/site-packages (from matplotlib) (0.11.0)\n",
      "Requirement already satisfied: pyparsing>=2.2.1 in /mnt/home/som05d/.conda/envs/jupyter_som05d/lib/python3.7/site-packages (from matplotlib) (3.0.6)\n",
      "Requirement already satisfied: pillow>=6.2.0 in /mnt/home/som05d/.conda/envs/jupyter_som05d/lib/python3.7/site-packages (from matplotlib) (8.4.0)\n",
      "Requirement already satisfied: packaging>=20.0 in /mnt/home/som05d/.conda/envs/jupyter_som05d/lib/python3.7/site-packages (from matplotlib) (21.3)\n",
      "Requirement already satisfied: fonttools>=4.22.0 in /mnt/home/som05d/.conda/envs/jupyter_som05d/lib/python3.7/site-packages (from matplotlib) (4.31.2)\n",
      "Requirement already satisfied: typing-extensions in /mnt/home/som05d/.conda/envs/jupyter_som05d/lib/python3.7/site-packages (from kiwisolver>=1.0.1->matplotlib) (4.0.1)\n",
      "Requirement already satisfied: six>=1.5 in /mnt/home/som05d/.conda/envs/jupyter_som05d/lib/python3.7/site-packages (from python-dateutil>=1.5->owslib) (1.16.0)\n",
      "Requirement already satisfied: certifi>=2017.4.17 in /mnt/home/som05d/.conda/envs/jupyter_som05d/lib/python3.7/site-packages (from requests>=1.0->owslib) (2021.10.8)\n",
      "Requirement already satisfied: charset-normalizer~=2.0.0 in /mnt/home/som05d/.conda/envs/jupyter_som05d/lib/python3.7/site-packages (from requests>=1.0->owslib) (2.0.8)\n",
      "Requirement already satisfied: urllib3<1.27,>=1.21.1 in /mnt/home/som05d/.conda/envs/jupyter_som05d/lib/python3.7/site-packages (from requests>=1.0->owslib) (1.26.7)\n",
      "Requirement already satisfied: idna<4,>=2.5 in /mnt/home/som05d/.conda/envs/jupyter_som05d/lib/python3.7/site-packages (from requests>=1.0->owslib) (3.1)\n",
      "Note: you may need to restart the kernel to use updated packages.\n"
     ]
    }
   ],
   "source": [
    "%pip install owslib shapely matplotlib"
   ]
  },
  {
   "cell_type": "markdown",
   "id": "562106ff-3678-4d3f-adba-a37d5a492aa2",
   "metadata": {},
   "source": [
    "### Imports"
   ]
  },
  {
   "cell_type": "code",
   "execution_count": 12,
   "id": "4deb3017-3d62-49b8-b964-c0eaaa668c78",
   "metadata": {},
   "outputs": [],
   "source": [
    "from owslib.wps import WebProcessingService, ComplexDataInput, monitorExecution\n",
    "from owslib import wps\n",
    "import matplotlib\n",
    "from matplotlib import pyplot\n",
    "from shapely.geometry import shape\n",
    "import json\n",
    "import pandas as pd\n",
    "import rasterio\n",
    "import logging\n",
    "import sys\n",
    "import io\n",
    "from ipyleaflet import Map, GeoJSON, basemaps"
   ]
  },
  {
   "cell_type": "code",
   "execution_count": 13,
   "id": "569b1f1d-69f7-4406-96ee-1d62a184b70e",
   "metadata": {},
   "outputs": [],
   "source": [
    "# Set up owslib logging, to set relevant output\n",
    "logger = logging.getLogger(\"owslib\")\n",
    "logger.setLevel(logging.WARNING)\n",
    "\n",
    "handler = logging.StreamHandler(sys.stdout)\n",
    "handler.setLevel(logging.WARNING)\n",
    "logger.addHandler(handler)"
   ]
  },
  {
   "cell_type": "markdown",
   "id": "06d63143-b6f1-47e1-b43e-303a5bff7f7f",
   "metadata": {},
   "source": [
    "### Consts - Change these to affect the data retrieved"
   ]
  },
  {
   "cell_type": "code",
   "execution_count": 14,
   "id": "5ee54f12-04e0-4d8e-b1ff-02fb4426a14a",
   "metadata": {},
   "outputs": [],
   "source": [
    "ENDPOINT=\"https://funcwps.ternlandscapes.org.au/wps/\"\n",
    "DATASET=\"smips\"  # options are \"smips\" or \"aet\"\n",
    "LAYER=\"totalbucket\"  # options are \"totalbucket\" or \"SMindex\" for smips, or \"ETa\" for \"aet\".\n",
    "STARTDATE=\"2007-01-01\"\n",
    "ENDDATE=\"2007-09-26\"\n",
    "# Enter your POLYGON as GeoJSON format.\n",
    "MY_POLYGON='''{\n",
    "  \"type\": \"FeatureCollection\",\n",
    "  \"features\": [\n",
    "    {\n",
    "      \"type\": \"Feature\",\n",
    "      \"properties\": {},\n",
    "      \"geometry\": {\n",
    "        \"coordinates\": [\n",
    "          [\n",
    "            [\n",
    "              152.4076151068369,\n",
    "              -27.740499600282057\n",
    "            ],\n",
    "            [\n",
    "              153.4719537627558,\n",
    "              -27.740499600282057\n",
    "            ],\n",
    "            [\n",
    "              153.4719537627558,\n",
    "              -27.093849063222414\n",
    "            ],\n",
    "            [\n",
    "              152.4076151068369,\n",
    "              -27.093849063222414\n",
    "            ],\n",
    "            [\n",
    "              152.4076151068369,\n",
    "              -27.740499600282057\n",
    "            ]\n",
    "          ]\n",
    "        ],\n",
    "        \"type\": \"Polygon\"\n",
    "      }\n",
    "    },\n",
    "    {\n",
    "      \"type\": \"Feature\",\n",
    "      \"properties\": {},\n",
    "      \"geometry\": {\n",
    "        \"coordinates\": [\n",
    "          [\n",
    "            [\n",
    "              153.04560361385302,\n",
    "              -30.261677316183146\n",
    "            ],\n",
    "            [\n",
    "              153.01223568656428,\n",
    "              -30.274209977967658\n",
    "            ],\n",
    "            [\n",
    "              152.97925359656017,\n",
    "              -30.306757809371064\n",
    "            ],\n",
    "            [\n",
    "              153.00516809584911,\n",
    "              -30.388080106869154\n",
    "            ],\n",
    "            [\n",
    "              153.11038986207154,\n",
    "              -30.357268040135885\n",
    "            ],\n",
    "            [\n",
    "              153.14690574743526,\n",
    "              -30.313551938010704\n",
    "            ],\n",
    "            [\n",
    "              153.12216917993214,\n",
    "              -30.248449987166744\n",
    "            ],\n",
    "            [\n",
    "              153.04560361385302,\n",
    "              -30.261677316183146\n",
    "            ]\n",
    "          ]\n",
    "        ],\n",
    "        \"type\": \"Polygon\"\n",
    "      }\n",
    "    },\n",
    "    {\n",
    "      \"type\": \"Feature\",\n",
    "      \"properties\": {},\n",
    "      \"geometry\": {\n",
    "        \"coordinates\": [\n",
    "          [\n",
    "            [\n",
    "              150.9019211334824,\n",
    "              -34.00680553492937\n",
    "            ],\n",
    "            [\n",
    "              151.0874349541068,\n",
    "              -34.00971216084313\n",
    "            ],\n",
    "            [\n",
    "              151.31917860367787,\n",
    "              -33.89045896204837\n",
    "            ],\n",
    "            [\n",
    "              151.25957039365034,\n",
    "              -33.692305214021\n",
    "            ],\n",
    "            [\n",
    "              150.78621107872112,\n",
    "              -33.642695168765655\n",
    "            ],\n",
    "            [\n",
    "              150.71257740751076,\n",
    "              -33.92537963226312\n",
    "            ],\n",
    "            [\n",
    "              150.9019211334824,\n",
    "              -34.00680553492937\n",
    "            ]\n",
    "          ]\n",
    "        ],\n",
    "        \"type\": \"Polygon\"\n",
    "      }\n",
    "    }\n",
    "  ]\n",
    "}'''"
   ]
  },
  {
   "cell_type": "markdown",
   "id": "ebab61ce-198c-4a9b-9731-2b5b19d644c7",
   "metadata": {},
   "source": [
    "### Define a connection to the server"
   ]
  },
  {
   "cell_type": "code",
   "execution_count": 15,
   "id": "1359f773-e988-44b5-9d2d-5929ca5e653c",
   "metadata": {},
   "outputs": [],
   "source": [
    "server = WebProcessingService(ENDPOINT, verbose=False)"
   ]
  },
  {
   "cell_type": "code",
   "execution_count": 16,
   "id": "f7d54ed9-67fe-4a2f-91c4-6cffb4f28f9e",
   "metadata": {},
   "outputs": [
    {
     "name": "stdout",
     "output_type": "stream",
     "text": [
      "WPS Identification type: WPS\n",
      "WPS Identification title: TERN Landscapes Functional Data WPS Server\n",
      "WPS Identification abstract: The Functional Data Processing Server from TERN Landscapes\n",
      "WPS Operation: GetCapabilities\n",
      "WPS Operation: DescribeProcess\n",
      "WPS Operation: Execute\n",
      "WPS Process: identifier=sleep title=Sleep Process\n",
      "WPS Process: identifier=temporalDrill title=Temporal\n",
      "WPS Process: identifier=subset1d title=SubSet 1D\n",
      "WPS Process: identifier=subset2d title=SubSet 2D\n",
      "WPS Process: identifier=stats2d title=Stats 2D\n",
      "WPS Process: identifier=stats3d title=Stats 3D\n"
     ]
    }
   ],
   "source": [
    "print('WPS Identification type: %s' % server.identification.type)\n",
    "print('WPS Identification title: %s' % server.identification.title)\n",
    "print('WPS Identification abstract: %s' % server.identification.abstract)\n",
    "for operation in server.operations:\n",
    "    print('WPS Operation: %s' % operation.name)\n",
    "for process in server.processes:\n",
    "    print('WPS Process: identifier=%s title=%s' % (process.identifier, process.title))"
   ]
  },
  {
   "cell_type": "code",
   "execution_count": 17,
   "id": "978c8311-254e-4b33-9476-dc606df64896",
   "metadata": {},
   "outputs": [
    {
     "name": "stdout",
     "output_type": "stream",
     "text": [
      "WPS Process: identifier=stats3d\n",
      "WPS Process: title=Stats 3D\n",
      "WPS Process: abstract=Return CSV file containing timeseries stats within given 2D polygons.\n",
      "Process input: identifier=datasetId, data type=string, minOccurs=1, maxOccurs=1\n",
      "Process input: identifier=startDate, data type=date, minOccurs=1, maxOccurs=1\n",
      "Process input: identifier=endDate, data type=date, minOccurs=1, maxOccurs=1\n",
      "Process input: identifier=polygon, data type=ComplexData, minOccurs=1, maxOccurs=1\n",
      "Process output: identifier=download_link, data type=string\n",
      "Process output: identifier=csv, data type=ComplexData\n"
     ]
    }
   ],
   "source": [
    "process = server.describeprocess(\"stats3d\")\n",
    "print('WPS Process: identifier=%s' % process.identifier)\n",
    "print('WPS Process: title=%s' % process.title)\n",
    "print('WPS Process: abstract=%s' % process.abstract)\n",
    "for input in process.dataInputs:\n",
    "    print('Process input: identifier=%s, data type=%s, minOccurs=%d, maxOccurs=%d' % (input.identifier, input.dataType, input.minOccurs, input.maxOccurs))\n",
    "for output in process.processOutputs:\n",
    "    print('Process output: identifier=%s, data type=%s' % (output.identifier, output.dataType))"
   ]
  },
  {
   "cell_type": "markdown",
   "id": "95949ead-0a43-4c99-bc5b-e0c258e6aaaa",
   "metadata": {},
   "source": [
    "### Optional - Visualize shapes"
   ]
  },
  {
   "cell_type": "code",
   "execution_count": 18,
   "id": "1bc6921a-c31c-46b7-84eb-dce26b338db3",
   "metadata": {},
   "outputs": [
    {
     "data": {
      "application/vnd.jupyter.widget-view+json": {
       "model_id": "4cb18fdeb1784d0f93258f7cb3dafe3a",
       "version_major": 2,
       "version_minor": 0
      },
      "text/plain": [
       "Map(center=[-25.128, 135.588], controls=(ZoomControl(options=['position', 'zoom_in_text', 'zoom_in_title', 'zo…"
      ]
     },
     "execution_count": 18,
     "metadata": {},
     "output_type": "execute_result"
    }
   ],
   "source": [
    "m = Map(basemap=basemaps.OpenStreetMap.Mapnik, center=[-25.128, 135.588], zoom=4)\n",
    "m.add_layer(GeoJSON(data=json.loads(MY_POLYGON)))\n",
    "m"
   ]
  },
  {
   "cell_type": "markdown",
   "id": "612e12ff-89ad-4842-bc3b-ee06779cb8e5",
   "metadata": {},
   "source": [
    "### Set up to send request, first create inputs"
   ]
  },
  {
   "cell_type": "code",
   "execution_count": 19,
   "id": "21e11738-241b-42ad-a406-a425e03d195e",
   "metadata": {},
   "outputs": [],
   "source": [
    "poly_input = ComplexDataInput(MY_POLYGON, mimeType=\"application/vnd.geo+json\", schema=\"http://geojson.org/geojson-spec.html#FeatureCollection\")"
   ]
  },
  {
   "cell_type": "markdown",
   "id": "5a7c9e8d-7c53-4652-957f-1a93fcfa8967",
   "metadata": {},
   "source": [
    "### Trigger process to begin (process executes asynchronously)"
   ]
  },
  {
   "cell_type": "code",
   "execution_count": 20,
   "id": "f6d4319e-5ebe-4115-950c-04022dfb4361",
   "metadata": {},
   "outputs": [],
   "source": [
    "resp = server.execute(\n",
    "    \"stats3d\",\n",
    "    mode=\"async\",\n",
    "    inputs=[(\"datasetId\", f\"{DATASET}:{LAYER}\"), (\"polygon\", poly_input), (\"startDate\", STARTDATE), (\"endDate\", ENDDATE)],\n",
    "    output=[(\"csv\", False, \"text/csv\")]  # Get stats as embedded file in result\n",
    ")"
   ]
  },
  {
   "cell_type": "markdown",
   "id": "1515b193-f4ce-48c3-a99a-dc8a9401fc0f",
   "metadata": {},
   "source": [
    "### Wait for process to complete (polls every 4 seconds)"
   ]
  },
  {
   "cell_type": "code",
   "execution_count": 21,
   "id": "6a05b772-7fde-4c88-b0e0-83445cfd3c6e",
   "metadata": {},
   "outputs": [
    {
     "name": "stdout",
     "output_type": "stream",
     "text": [
      "Waiting for process to complete...\n",
      "Status: ProcessSucceeded\n",
      "Done\n"
     ]
    }
   ],
   "source": [
    "while not resp.isComplete():\n",
    "    print(\"Waiting for process to complete...\")\n",
    "    resp.checkStatus(sleepSecs=4)\n",
    "    print(f\"Status: {resp.status}\")\n",
    "print(\"Done\")"
   ]
  },
  {
   "cell_type": "markdown",
   "id": "ffdb0fe3-d594-4a04-b970-a732787304b5",
   "metadata": {},
   "source": [
    "### Extract CSV data and render it"
   ]
  },
  {
   "cell_type": "code",
   "execution_count": 22,
   "id": "fd6f41e3-9e6c-46cb-ab78-bb718685ad3d",
   "metadata": {},
   "outputs": [
    {
     "data": {
      "text/html": [
       "<div>\n",
       "<style scoped>\n",
       "    .dataframe tbody tr th:only-of-type {\n",
       "        vertical-align: middle;\n",
       "    }\n",
       "\n",
       "    .dataframe tbody tr th {\n",
       "        vertical-align: top;\n",
       "    }\n",
       "\n",
       "    .dataframe thead th {\n",
       "        text-align: right;\n",
       "    }\n",
       "</style>\n",
       "<table border=\"1\" class=\"dataframe\">\n",
       "  <thead>\n",
       "    <tr style=\"text-align: right;\">\n",
       "      <th></th>\n",
       "      <th>None</th>\n",
       "    </tr>\n",
       "  </thead>\n",
       "  <tbody>\n",
       "  </tbody>\n",
       "</table>\n",
       "</div>"
      ],
      "text/plain": [
       "Empty DataFrame\n",
       "Columns: [None]\n",
       "Index: []"
      ]
     },
     "execution_count": 22,
     "metadata": {},
     "output_type": "execute_result"
    }
   ],
   "source": [
    "first_output = next(iter(resp.processOutputs))\n",
    "data = \"\".join(d for d in first_output.data)\n",
    "df = pd.read_csv(io.StringIO(data))\n",
    "df"
   ]
  }
 ],
 "metadata": {
  "kernelspec": {
   "display_name": "Python 3",
   "language": "python",
   "name": "python3"
  },
  "language_info": {
   "codemirror_mode": {
    "name": "ipython",
    "version": 3
   },
   "file_extension": ".py",
   "mimetype": "text/x-python",
   "name": "python",
   "nbconvert_exporter": "python",
   "pygments_lexer": "ipython3",
   "version": "3.10.9"
  },
  "vscode": {
   "interpreter": {
    "hash": "e7370f93d1d0cde622a1f8e1c04877d8463912d04d973331ad4851f04de6915a"
   }
  }
 },
 "nbformat": 4,
 "nbformat_minor": 5
}
